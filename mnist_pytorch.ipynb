{
 "cells": [
  {
   "cell_type": "markdown",
   "metadata": {},
   "source": [
    "* Dataset\n",
    "* Build model\n",
    "* Define loss function and optimizer\n",
    "* Define trainer (model produces prediction -> compute the loss (label - pred) -> backward pass)\n",
    "* Define test (on validation) -> training/validation\n",
    "* Run trainer and test"
   ]
  },
  {
   "cell_type": "code",
   "execution_count": null,
   "metadata": {},
   "outputs": [],
   "source": [
    "import torch\n",
    "from torch.utils.data import DataLoader\n",
    "from torch.utils.data import TensorDataset\n",
    "from torchvision.datasets import MNIST\n",
    "from torchvision.transforms import ToTensor\n",
    "import matplotlib.pyplot as plt\n"
   ]
  },
  {
   "cell_type": "code",
   "execution_count": null,
   "metadata": {},
   "outputs": [],
   "source": [
    "# get the dataset\n",
    "train_ds = MNIST(root='data', train=True, download=True, transform=ToTensor())\n",
    "valid_ds = MNIST(root='data', train=False, download=True, transform=ToTensor())"
   ]
  },
  {
   "cell_type": "code",
   "execution_count": null,
   "metadata": {},
   "outputs": [],
   "source": [
    "# Examine the data\n",
    "\n",
    "image, label = train_ds[0]\n",
    "print(label)\n",
    "plt.imshow(image.float().reshape(28, 28), cmap='gray')"
   ]
  },
  {
   "cell_type": "code",
   "execution_count": null,
   "metadata": {},
   "outputs": [],
   "source": [
    "# Create a data loader\n",
    "# Makes it easier to iterate over batches\n",
    "# GPU accelration -> num_workers = 4, pin_memory (pinned memory -> faster RAM to gpu transfer)\n",
    "bs = 64\n",
    "train_dl = DataLoader(train_ds, batch=bs, shuffle=True)\n",
    "valid_dl = DataLoader(valid_bs, batch=bs, shuffle=True)"
   ]
  },
  {
   "cell_type": "code",
   "execution_count": null,
   "metadata": {},
   "outputs": [],
   "source": [
    "from torch import nn\n",
    "\n",
    "# build a model\n",
    "class MNISTModel(nn.Module):\n",
    "    def __init__(self):\n",
    "        super().__init__\n",
    "        self.lin = nn.Linear(784, 10)\n",
    "    \n",
    "    def forward(self, xb):\n",
    "        xb.flatten(1, -1) # (bs, 1, 28, 28) -> (bs, 784)\n",
    "        return self.lin(xb)\n",
    "\n",
    "model = MNISTModel()\n",
    "print(model)\n",
    "\n",
    "\n",
    "        "
   ]
  }
 ],
 "metadata": {
  "kernelspec": {
   "display_name": "example",
   "language": "python",
   "name": "python3"
  },
  "language_info": {
   "codemirror_mode": {
    "name": "ipython",
    "version": 3
   },
   "file_extension": ".py",
   "mimetype": "text/x-python",
   "name": "python",
   "nbconvert_exporter": "python",
   "pygments_lexer": "ipython3",
   "version": "3.12.2"
  }
 },
 "nbformat": 4,
 "nbformat_minor": 2
}
