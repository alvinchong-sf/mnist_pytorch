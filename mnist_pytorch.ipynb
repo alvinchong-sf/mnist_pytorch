{
 "cells": [
  {
   "cell_type": "markdown",
   "metadata": {},
   "source": [
    "* Dataset\n",
    "* Build model\n",
    "* Define loss function and optimizer\n",
    "* Define trainer (model produces prediction -> compute the loss (label - pred) -> backward pass)\n",
    "* Define test (on validation) -> training/validation\n",
    "* Run trainer and test"
   ]
  },
  {
   "cell_type": "code",
   "execution_count": null,
   "metadata": {},
   "outputs": [],
   "source": [
    "import torch\n",
    "from torch.utils.data import DataLoader\n",
    "from torch.utils.data import TensorDataset\n",
    "from torchvision.datasets import MNIST\n",
    "from torchvision.transforms import ToTensor\n",
    "import matplotlib.pyplot as plt\n"
   ]
  },
  {
   "cell_type": "code",
   "execution_count": null,
   "metadata": {},
   "outputs": [],
   "source": [
    "# get the dataset\n",
    "train_ds = MNIST(root='data', train=True, download=True, transform=ToTensor())\n",
    "valid_ds = MNIST(root='data', train=False, download=True, transform=ToTensor())"
   ]
  },
  {
   "cell_type": "code",
   "execution_count": null,
   "metadata": {},
   "outputs": [],
   "source": [
    "# Examine the data\n",
    "\n",
    "image, label = train_ds[0]\n",
    "print(label)\n",
    "plt.imshow(image.float().reshape(28, 28), cmap='gray')"
   ]
  },
  {
   "cell_type": "code",
   "execution_count": null,
   "metadata": {},
   "outputs": [],
   "source": [
    "# Create a data loader\n",
    "# Makes it easier to iterate over batches\n",
    "# GPU accelration -> num_workers = 4, pin_memory (pinned memory -> faster RAM to gpu transfer)\n",
    "bs = 64\n",
    "train_dl = DataLoader(train_ds, batch_size=bs, shuffle=True)\n",
    "valid_dl = DataLoader(valid_ds, batch_size=bs, shuffle=True)"
   ]
  },
  {
   "cell_type": "code",
   "execution_count": null,
   "metadata": {},
   "outputs": [],
   "source": [
    "from torch import nn\n",
    "\n",
    "# build a model\n",
    "class MNISTModel(nn.Module):\n",
    "    def __init__(self):\n",
    "        super().__init__()\n",
    "        self.lin = nn.Linear(784, 10)\n",
    "    \n",
    "    def forward(self, xb):\n",
    "        xb = xb.flatten(1, -1) # (bs, 1, 28, 28) -> (bs, 784)\n",
    "        return self.lin(xb)\n",
    "\n",
    "model = MNISTModel()\n",
    "print(model)"
   ]
  },
  {
   "cell_type": "code",
   "execution_count": null,
   "metadata": {},
   "outputs": [],
   "source": [
    "from torch import optim\n",
    "\n",
    "lr = 0.5\n",
    "\n",
    "# define a loss function & optimizer\n",
    "loss_func = nn.CrossEntropyLoss()\n",
    "optimizer = optim.SGD(model.parameters(), lr=lr)\n",
    "\n",
    "# accuracy func for logging\n",
    "def accuracy_func(pred, yb):\n",
    "    pred_class = torch.argmax(pred, dim=1)\n",
    "    return (pred_class == yb).float().mean()\n"
   ]
  },
  {
   "cell_type": "code",
   "execution_count": null,
   "metadata": {},
   "outputs": [],
   "source": [
    "# Define a trainer\n",
    "\n",
    "def train(dataloader, model, loss_func, optimizer):\n",
    "    # for batch_idx, (xb, yb) in enumerate(dataloader):\n",
    "    for batch_idx, (xb, yb)  in enumerate(dataloader):\n",
    "        # loss \n",
    "        pred = model(xb)\n",
    "        loss = loss_func(pred, yb)\n",
    "\n",
    "        # backprop\n",
    "        loss.backward() # autograd\n",
    "        optimizer.step() # updates the parameters using the optimizer (SGD/Adam)\n",
    "        optimizer.zero_grad()\n",
    "\n",
    "        # logging\n",
    "        if batch_idx % 100 == 0:\n",
    "            train_loss, train_accuracy = loss.item(), accuracy_func(pred, yb).item() * 100\n",
    "            print(f\"Loss: {train_loss:6f} Accuracy: {train_accuracy:0.1f}%\")"
   ]
  },
  {
   "cell_type": "code",
   "execution_count": null,
   "metadata": {},
   "outputs": [],
   "source": [
    "# Define test -> Not updating any parameters\n",
    "def test(dataloader, model, loss_func):\n",
    "    model.eval() # flag to make sure things like dropout works as expected in testing\n",
    "    with torch.no_grad():\n",
    "        for xb, yb in dataloader:\n",
    "            pred = model(xb)\n",
    "            loss = loss_func(pred, yb)\n",
    "            accuracy = accuracy_func(pred, yb)\n",
    "\n",
    "            # logging\n",
    "            test_loss, test_accuracy = loss.item(), accuracy.item() * 100\n",
    "    \n",
    "    print(f\"Test:\\n Loss: {test_loss:6f}, Accuracy: {test_accuracy:0.1f}%\")"
   ]
  },
  {
   "cell_type": "code",
   "execution_count": null,
   "metadata": {},
   "outputs": [],
   "source": [
    "# Run\n",
    "\n",
    "epochs = 2\n",
    "\n",
    "for t in range(epochs):\n",
    "    print(f\"\\nEpoch: {t}\\n--------------------\")\n",
    "    train(train_dl, model, loss_func, optimizer)\n",
    "    test(valid_dl, model, loss_func)\n",
    "\n",
    "print(\"\\nFinished!!!!!\")"
   ]
  }
 ],
 "metadata": {
  "kernelspec": {
   "display_name": "example",
   "language": "python",
   "name": "python3"
  },
  "language_info": {
   "codemirror_mode": {
    "name": "ipython",
    "version": 3
   },
   "file_extension": ".py",
   "mimetype": "text/x-python",
   "name": "python",
   "nbconvert_exporter": "python",
   "pygments_lexer": "ipython3",
   "version": "3.12.2"
  }
 },
 "nbformat": 4,
 "nbformat_minor": 2
}
